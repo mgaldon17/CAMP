{
 "cells": [
  {
   "cell_type": "markdown",
   "metadata": {
    "collapsed": true
   },
   "source": [
    "__Basic Image Processing__\n",
    "\n",
    "Images (Volumes) are stored in a two-dimensional (three-dimensional) matrix. The goal of this exercise is to become familiar with the basics of image processing taking the matrix- oriented storage into account."
   ]
  },
  {
   "cell_type": "code",
   "execution_count": null,
   "metadata": {},
   "outputs": [],
   "source": [
    "import os\n",
    "\n",
    "import matplotlib\n",
    "import matplotlib.pyplot as plt"
   ]
  },
  {
   "cell_type": "markdown",
   "metadata": {},
   "source": [
    "Additional imports for image processing\n",
    "\n",
    "Documentation available:\n",
    "- skimage: http://scikit-image.org/docs/dev/api/skimage.html\n",
    "- matplotlib: http://matplotlib.org/api/pyplot_api.html\n",
    "- imageio: https://imageio.readthedocs.io/en/stable/"
   ]
  },
  {
   "cell_type": "code",
   "execution_count": null,
   "metadata": {},
   "outputs": [],
   "source": [
    "from imageio import imread\n",
    "from skimage import img_as_float\n",
    "from skimage.exposure import equalize_adapthist\n",
    "from skimage.filters import gaussian"
   ]
  },
  {
   "cell_type": "markdown",
   "metadata": {},
   "source": [
    "Use the function imread to load the image 'data/mrihead.jpg' and store it in the variable im."
   ]
  },
  {
   "cell_type": "code",
   "execution_count": null,
   "metadata": {},
   "outputs": [],
   "source": []
  },
  {
   "cell_type": "markdown",
   "metadata": {},
   "source": [
    "Use the function imshow to visualize this image.\n",
    "\n",
    "Please note, that the image display method of pyplot (`imshow`) automatically used bilinear interpolation when displaying images. To avoid this, set the interpolation method to nearest neighbor. Furthermore, luminance images are not correctly displayed unless the correct colormap (`plt.cm.gray`) is provided. Use the [pyplot documentation](http://matplotlib.org/api/axes_api.html?highlight=imshow#matplotlib.axes.Axes.imshow) to explore the available options."
   ]
  },
  {
   "cell_type": "code",
   "execution_count": null,
   "metadata": {},
   "outputs": [],
   "source": []
  },
  {
   "cell_type": "markdown",
   "metadata": {},
   "source": [
    "Now visualize only the upper left of the image in the range [100,150]."
   ]
  },
  {
   "cell_type": "code",
   "execution_count": null,
   "metadata": {},
   "outputs": [],
   "source": []
  },
  {
   "cell_type": "markdown",
   "metadata": {},
   "source": [
    "The skimage toolbox provides you with some functions for histogram equalization which can improve the contrast of the image. Use the function `equalize_adapthist` in order improve the contrast of your image."
   ]
  },
  {
   "cell_type": "code",
   "execution_count": null,
   "metadata": {},
   "outputs": [],
   "source": []
  },
  {
   "cell_type": "markdown",
   "metadata": {},
   "source": [
    "Unfortunately the histogram equalization enhances also the noise. Find out how to smooth your images with a Gaussian filter by typing `help(gaussian)'. Don’t forget to use to option ’mode’ in order to avoid black boundaries after filtering! The precise meaning of this option will become clear in the following exercise."
   ]
  },
  {
   "cell_type": "code",
   "execution_count": null,
   "metadata": {},
   "outputs": [],
   "source": []
  },
  {
   "cell_type": "markdown",
   "metadata": {},
   "source": [
    "Open a new figure and visualize the difference between the original image and the enhanced image. Do not forget to convert both images to double (`img_as_float( )`). Please keep in mind that processing functions might behave different for double and integer data types like uint8, int16 and so on!"
   ]
  },
  {
   "cell_type": "code",
   "execution_count": null,
   "metadata": {},
   "outputs": [],
   "source": []
  }
 ],
 "metadata": {
  "anaconda-cloud": {},
  "kernelspec": {
   "display_name": "Python 3",
   "language": "python",
   "name": "python3"
  },
  "language_info": {
   "codemirror_mode": {
    "name": "ipython",
    "version": 3
   },
   "file_extension": ".py",
   "mimetype": "text/x-python",
   "name": "python",
   "nbconvert_exporter": "python",
   "pygments_lexer": "ipython3",
   "version": "3.8.5"
  }
 },
 "nbformat": 4,
 "nbformat_minor": 1
}
