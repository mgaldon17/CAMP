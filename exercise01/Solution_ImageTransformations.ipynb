{
 "cells": [
  {
   "cell_type": "code",
   "execution_count": null,
   "metadata": {
    "hideCode": false,
    "hidePrompt": false
   },
   "outputs": [],
   "source": [
    "import os\n",
    "import numpy as np\n",
    "import scipy as sp\n",
    "from functools import partial\n",
    "from collections import namedtuple\n",
    "from scipy import misc as spm\n",
    "from scipy.io import loadmat\n",
    "from skimage.transform import resize\n",
    "from scipy.spatial.distance import euclidean\n",
    "from scipy import interpolate as spi\n",
    "import matplotlib.pyplot as plt\n",
    "from PIL import Image\n",
    "import PIL\n",
    "from skimage import img_as_float\n",
    "\n",
    "from skimage import transform as skitr\n",
    "\n",
    "# turn of numpy warnings for now..\n",
    "import warnings\n",
    "warnings.filterwarnings(\"ignore\")\n",
    "\n",
    "%matplotlib inline"
   ]
  },
  {
   "cell_type": "markdown",
   "metadata": {},
   "source": [
    "## Exercise: Image Transformations"
   ]
  },
  {
   "cell_type": "markdown",
   "metadata": {},
   "source": [
    "## Problem Statement\n",
    "\n",
    "Perform a comparative analysis of standard image interpolation techniques for different image processing tasks."
   ]
  },
  {
   "cell_type": "markdown",
   "metadata": {},
   "source": [
    "### Task 1 - Error Concealment using Image Interpolation\n",
    "\n",
    "Given in the data/image_transformations_assignment.mat file are input images (ImInput) and erroneous pixel mask (ErrorMask) where imaging errors were observed. These are given as Matlab MAT file, that can be loaded using the scipy.io.loadmat function, which returns a dictionary that contains all the needed data. \n",
    "\n",
    "Perform image interpolation at the erroneous pixels using only the non-erroneous pixels surrounding them and generate image ImErrorConcealed. \n",
    "\n",
    "Compare the error-concealed image ImErrorConcealed with ground truth image (ImGroundTruth) to compare the performance of your inter- polation technique.\n",
    "\n",
    "_Interpolation Techniques to Explore_: Linear Interpolation \n",
    "\n",
    "_Functions to use_: Write your own linear interpolation function."
   ]
  },
  {
   "cell_type": "code",
   "execution_count": 1,
   "metadata": {},
   "outputs": [
    {
     "ename": "NameError",
     "evalue": "name 'loadmat' is not defined",
     "output_type": "error",
     "traceback": [
      "\u001b[1;31m---------------------------------------------------------------------------\u001b[0m",
      "\u001b[1;31mNameError\u001b[0m                                 Traceback (most recent call last)",
      "\u001b[1;32m<ipython-input-1-a4d1cb749aab>\u001b[0m in \u001b[0;36m<module>\u001b[1;34m\u001b[0m\n\u001b[1;32m----> 1\u001b[1;33m \u001b[0massignment_data\u001b[0m \u001b[1;33m=\u001b[0m \u001b[0mloadmat\u001b[0m\u001b[1;33m(\u001b[0m\u001b[0mos\u001b[0m\u001b[1;33m.\u001b[0m\u001b[0mpath\u001b[0m\u001b[1;33m.\u001b[0m\u001b[0mjoin\u001b[0m\u001b[1;33m(\u001b[0m\u001b[1;34m\"data\"\u001b[0m\u001b[1;33m,\u001b[0m \u001b[1;34m\"image_transformations_assignment.mat\"\u001b[0m\u001b[1;33m)\u001b[0m\u001b[1;33m)\u001b[0m\u001b[1;33m\u001b[0m\u001b[1;33m\u001b[0m\u001b[0m\n\u001b[0m\u001b[0;32m      2\u001b[0m \u001b[0massignment_data\u001b[0m\u001b[1;33m.\u001b[0m\u001b[0mkeys\u001b[0m\u001b[1;33m(\u001b[0m\u001b[1;33m)\u001b[0m\u001b[1;33m\u001b[0m\u001b[1;33m\u001b[0m\u001b[0m\n",
      "\u001b[1;31mNameError\u001b[0m: name 'loadmat' is not defined"
     ]
    }
   ],
   "source": [
    "assignment_data = loadmat(os.path.join(\"data\", \"image_transformations_assignment.mat\"))\n",
    "assignment_data.keys()"
   ]
  },
  {
   "cell_type": "code",
   "execution_count": 2,
   "metadata": {},
   "outputs": [
    {
     "ename": "NameError",
     "evalue": "name 'assignment_data' is not defined",
     "output_type": "error",
     "traceback": [
      "\u001b[1;31m---------------------------------------------------------------------------\u001b[0m",
      "\u001b[1;31mNameError\u001b[0m                                 Traceback (most recent call last)",
      "\u001b[1;32m<ipython-input-2-223021d0a58a>\u001b[0m in \u001b[0;36m<module>\u001b[1;34m\u001b[0m\n\u001b[1;32m----> 1\u001b[1;33m \u001b[0mImInput\u001b[0m \u001b[1;33m=\u001b[0m \u001b[0massignment_data\u001b[0m\u001b[1;33m[\u001b[0m\u001b[1;34m\"ImInput\"\u001b[0m\u001b[1;33m]\u001b[0m\u001b[1;33m\u001b[0m\u001b[1;33m\u001b[0m\u001b[0m\n\u001b[0m\u001b[0;32m      2\u001b[0m \u001b[0mImOrig\u001b[0m \u001b[1;33m=\u001b[0m \u001b[0massignment_data\u001b[0m\u001b[1;33m[\u001b[0m\u001b[1;34m\"ImOrig\"\u001b[0m\u001b[1;33m]\u001b[0m\u001b[1;33m\u001b[0m\u001b[1;33m\u001b[0m\u001b[0m\n\u001b[0;32m      3\u001b[0m \u001b[0mErrorMask\u001b[0m \u001b[1;33m=\u001b[0m \u001b[0massignment_data\u001b[0m\u001b[1;33m[\u001b[0m\u001b[1;34m\"ErrorMask\"\u001b[0m\u001b[1;33m]\u001b[0m\u001b[1;33m\u001b[0m\u001b[1;33m\u001b[0m\u001b[0m\n\u001b[0;32m      4\u001b[0m \u001b[0mImGroundTruth\u001b[0m \u001b[1;33m=\u001b[0m \u001b[0massignment_data\u001b[0m\u001b[1;33m[\u001b[0m\u001b[1;34m\"ImGroundTruth\"\u001b[0m\u001b[1;33m]\u001b[0m\u001b[1;33m\u001b[0m\u001b[1;33m\u001b[0m\u001b[0m\n\u001b[0;32m      5\u001b[0m \u001b[0mScales\u001b[0m \u001b[1;33m=\u001b[0m \u001b[0massignment_data\u001b[0m\u001b[1;33m[\u001b[0m\u001b[1;34m\"Scales\"\u001b[0m\u001b[1;33m]\u001b[0m\u001b[1;33m[\u001b[0m\u001b[1;36m0\u001b[0m\u001b[1;33m]\u001b[0m\u001b[1;33m\u001b[0m\u001b[1;33m\u001b[0m\u001b[0m\n",
      "\u001b[1;31mNameError\u001b[0m: name 'assignment_data' is not defined"
     ]
    }
   ],
   "source": [
    "ImInput = assignment_data[\"ImInput\"]\n",
    "ImOrig = assignment_data[\"ImOrig\"]\n",
    "ErrorMask = assignment_data[\"ErrorMask\"]\n",
    "ImGroundTruth = assignment_data[\"ImGroundTruth\"]\n",
    "Scales = assignment_data[\"Scales\"][0]"
   ]
  },
  {
   "cell_type": "code",
   "execution_count": null,
   "metadata": {},
   "outputs": [],
   "source": [
    "plt.figure(figsize=(6,6))\n",
    "plt.imshow(ImInput, cmap=plt.cm.gray, interpolation='nearest')\n",
    "plt.axis('off')"
   ]
  },
  {
   "cell_type": "code",
   "execution_count": null,
   "metadata": {},
   "outputs": [],
   "source": [
    "plt.figure(figsize=(6,6))\n",
    "plt.imshow(ErrorMask, cmap=plt.cm.gray, interpolation='nearest')\n",
    "plt.axis('off')\n",
    "ErrorMask.shape"
   ]
  },
  {
   "cell_type": "code",
   "execution_count": null,
   "metadata": {},
   "outputs": [],
   "source": [
    "def get4ngb(rows, cols, x, y):\n",
    "    # function ngb = get4ngb(rows, cols, x, y)\n",
    "    # \n",
    "    # Input:\n",
    "    # rows, cols    Number of rows and colums from the 2D Image\n",
    "    # x,y           Coordinates of the center point\n",
    "    #\n",
    "    # Output:\n",
    "    # ngb           list of possible neighbours\n",
    "\n",
    "    # initialize empty result list\n",
    "    ngb = list()\n",
    "\n",
    "    # east\n",
    "    if x > 1:\n",
    "        ngb += [[x-1, y]];\n",
    "\n",
    "    # north\n",
    "    if y < cols-1:\n",
    "        ngb += [[x, y+1]];\n",
    "\n",
    "    # west\n",
    "    if x < rows-1:\n",
    "        ngb += [[x+1, y]];\n",
    "\n",
    "    # south\n",
    "    if y > 1:\n",
    "        ngb += [[x, y-1]];\n",
    "\n",
    "    return ngb "
   ]
  },
  {
   "cell_type": "code",
   "execution_count": null,
   "metadata": {},
   "outputs": [],
   "source": [
    "ImErrorConcealed = np.zeros(ImInput.shape, dtype=ImInput.dtype)\n",
    "\n",
    "h, w = ImInput.shape\n",
    "for y in range(h):\n",
    "    for x in range(w):\n",
    "        # if pixel is ok, then just store it\n",
    "        if ErrorMask[y,x] == 0:\n",
    "            ImErrorConcealed[y,x] = ImInput[y,x]\n",
    "        else:\n",
    "            # look up neighboring pixel coordinates\n",
    "            points = get4ngb(w, h, x, y)\n",
    "            # search for pixels that are not in error mask and are within the image boundaries\n",
    "            v = 0.\n",
    "            c = 0\n",
    "            for p in points:\n",
    "                if ErrorMask[p[1], p[0]] == 1:\n",
    "                    continue\n",
    "                v += ImInput[p[1], p[0]]\n",
    "                c += 1\n",
    "            # since all distances are equal (we always use array-indices), \n",
    "            # we can just divide by the number of samples we used to recreate the missing pixel\n",
    "            if c > 0:\n",
    "                v /= c\n",
    "            ImErrorConcealed[y,x] = v"
   ]
  },
  {
   "cell_type": "code",
   "execution_count": null,
   "metadata": {},
   "outputs": [],
   "source": [
    "plt.figure(figsize=(6,6))\n",
    "plt.imshow(ImErrorConcealed, cmap=plt.cm.gray, interpolation='nearest')\n",
    "plt.axis('off')"
   ]
  },
  {
   "cell_type": "code",
   "execution_count": null,
   "metadata": {},
   "outputs": [],
   "source": [
    "plt.figure(figsize=(6,6))\n",
    "plt.imshow(ImErrorConcealed - ImGroundTruth, cmap=plt.cm.gray, interpolation='nearest')\n",
    "plt.axis('off')"
   ]
  },
  {
   "cell_type": "markdown",
   "metadata": {},
   "source": [
    "### Task 2 - Interpolation for Image Resizing\n",
    "\n",
    "Given in the AssignmentData.mat file are input images (ImOrig) and a set of geometric scale factors Scales. Isotropically scale ImOrig using these scale factors and inverse the scaling operation to bring back the image to the original scale. Lets call this ImRescaled. Perform this rescaling using different interpolation techniques. Compare the rescaled image ImRescaled to the original image ImOrig to understand reconstruction error that the interpolation technique results in.\n",
    "\n",
    "Interpolation Kernels to Explore: Nearest Neighbor, Bilinear, Bicubic, Lanczoz.\n",
    "\n",
    "Functions to use: Write your own nearest and bilinear interpolation functions. For the rest, you can use the function we defined here"
   ]
  },
  {
   "cell_type": "code",
   "execution_count": null,
   "metadata": {},
   "outputs": [],
   "source": [
    "def resizeBicubic(image, scalingFactor):\n",
    "    im = Image.fromarray(image)\n",
    "    (width, height) = (image.shape[0] * scalingFactor, image.shape[1] * scalingFactor)\n",
    "    im_resized = im.resize((int(width), int(height)), resample=PIL.Image.BICUBIC)\n",
    "    return np.asarray(im_resized)\n",
    "\n",
    "def resizeLanczos(image, scalingFactor):\n",
    "    im = Image.fromarray(image)\n",
    "    (width, height) = (image.shape[0] * scalingFactor, image.shape[1] * scalingFactor)\n",
    "    im_resized = im.resize((int(width), int(height)), resample=PIL.Image.LANCZOS)\n",
    "    return np.asarray(im_resized)"
   ]
  },
  {
   "cell_type": "code",
   "execution_count": null,
   "metadata": {},
   "outputs": [],
   "source": [
    "def vec(*args):\n",
    "    return np.array(args)\n",
    "\n",
    "def normalized(a, axis=-1, order=2):\n",
    "    l2 = np.atleast_1d(np.linalg.norm(a, order, axis))\n",
    "    l2[l2==0] = 1\n",
    "    return a / np.expand_dims(l2, axis)"
   ]
  },
  {
   "cell_type": "code",
   "execution_count": null,
   "metadata": {},
   "outputs": [],
   "source": [
    "def nearest_neighbor_coord(img, y, x):\n",
    "    # compute nearest neighbor by rounding to 0 decimals\n",
    "    h_ = np.round(y)\n",
    "    w_ = np.round(x)\n",
    "    \n",
    "    # sanity checks of result (what if h,w is below 0 or larger than the image?)\n",
    "    h_max, w_max = img.shape\n",
    "    h_ = np.clip(h_, 0, h_max-1)\n",
    "    w_ = np.clip(w_, 0, w_max-1)\n",
    "\n",
    "    # return coordinates\n",
    "    return vec(int(h_), int(w_))\n",
    "\n",
    "def nearest_neighbor(img, y, x):\n",
    "    p = nearest_neighbor_coord(img, y, x)\n",
    "    # lookup value for computed coordinate\n",
    "    return img[p[0],p[1]]\n"
   ]
  },
  {
   "cell_type": "code",
   "execution_count": null,
   "metadata": {},
   "outputs": [],
   "source": [
    "def closest_coords_2x2(img, y, x):\n",
    "    # compute surrounding 2x2 neighbors\n",
    "    h1 = np.floor(y)\n",
    "    w1 = np.floor(x)\n",
    "    h2 = np.ceil(y)\n",
    "    w2 = np.ceil(x)\n",
    "    \n",
    "    # direct hit, no interpolation necessary\n",
    "    if h1 == h2 and w1 == w2:\n",
    "        return vec(int(y), int(x)), None, None, None\n",
    "    \n",
    "    # sanity checks of result (what if x,y is below 0 or larger than the image?)\n",
    "    h_max, w_max = img.shape\n",
    "    h1 = np.clip(h1, 0, h_max - 1)\n",
    "    w1 = np.clip(w1, 0, w_max - 1)\n",
    "    h2 = np.clip(h2, 0, h_max - 1)\n",
    "    w2 = np.clip(w2, 0, w_max - 1)\n",
    "\n",
    "    # surrounding points\n",
    "    sw = vec(int(h2), int(w1))\n",
    "    se = vec(int(h2), int(w2))\n",
    "    nw = vec(int(h1), int(w1))\n",
    "    ne = vec(int(h1), int(w2))\n",
    "    \n",
    "    #print vec(x,y), sw, se, nw, ne\n",
    "    return sw, se, nw, ne\n",
    "\n",
    "\n",
    "def bilinear_interpolation(img, y, x):\n",
    "    sw, se, nw, ne = closest_coords_2x2(img, y, x)\n",
    "    if se is None:\n",
    "        if np.all(sw == vec(y,x)):\n",
    "            return img[sw[0],sw[1]]\n",
    "        else:\n",
    "            return 0.\n",
    "    \n",
    "    origin = sw\n",
    "    hs = np.abs(y - origin[0])\n",
    "    ws = np.abs(x - origin[1])\n",
    "\n",
    "    # calculation as shown in slide 46\n",
    "    s = img[sw[0],sw[1]] * (1 - ws) + img[se[0],se[1]] * ws\n",
    "    n = img[nw[0],nw[1]] * (1 - ws) + img[ne[0],ne[1]] * ws\n",
    "    v = s * (1 - hs) + n * hs\n",
    "    return np.clip(v, 0, 255.)"
   ]
  },
  {
   "cell_type": "code",
   "execution_count": null,
   "metadata": {},
   "outputs": [],
   "source": [
    "def mk_scale_matrix(sx, sy):\n",
    "    return np.array([[sx, 0, 0], [0, sy, 0], [0, 0, 1]], dtype=np.float)\n",
    "\n",
    "def mk_translate_matrix(tx, ty):\n",
    "    return np.array([[1, 0, tx], [0, 1, ty], [0, 0, 1]], dtype=np.float)\n",
    "\n",
    "def mk_rotate_matrix(a):\n",
    "    return np.array([[np.cos(a), -np.sin(a), 0], [np.sin(a), np.cos(a), 0], [0, 0, 1]], dtype=np.float)\n"
   ]
  },
  {
   "cell_type": "code",
   "execution_count": null,
   "metadata": {},
   "outputs": [],
   "source": [
    "def fwarp(src, dst, tf, kernel, offset=None):\n",
    "    h, w = src.shape\n",
    "    oy, ox = offset if offset is not None else [0,0]\n",
    "    for y in range(h):\n",
    "        for x in range(w):\n",
    "            cx, cy = (tf.dot(vec(x, y, 1)))[:2]\n",
    "            kernel(dst, cy-oy, cx-ox, src[y,x])\n",
    "    \n",
    "\n",
    "def iwarp(src, dst, tf, kernel, offset=None):\n",
    "    h, w = dst.shape\n",
    "    sh, sw = src.shape\n",
    "    oy, ox = offset if offset is not None else [0,0]\n",
    "    tf_inv = np.linalg.inv(tf)\n",
    "    for y in range(h):\n",
    "        y = y + oy\n",
    "        for x in range(w):\n",
    "            x = x + ox\n",
    "            cx, cy = (tf_inv.dot(vec(x, y, 1)))[:2]\n",
    "            # don't fill if source is outside of image\n",
    "            if cx == np.clip( cx, 0, sw - 1 ) and cy == np.clip( cy, 0, sh - 1 ):\n",
    "                dst[int(y-oy), int(x-ox)] = kernel(src, cy, cx)\n",
    "\n"
   ]
  },
  {
   "cell_type": "markdown",
   "metadata": {},
   "source": [
    "helper to compute target image size"
   ]
  },
  {
   "cell_type": "code",
   "execution_count": null,
   "metadata": {},
   "outputs": [],
   "source": [
    "height, width = ImOrig.shape\n",
    "grid_h, grid_w = np.meshgrid(range(height), range(width))"
   ]
  },
  {
   "cell_type": "markdown",
   "metadata": {},
   "source": [
    "select which method / scaling-factor should be used"
   ]
  },
  {
   "cell_type": "code",
   "execution_count": null,
   "metadata": {},
   "outputs": [],
   "source": [
    "interp_func = nearest_neighbor\n",
    "# interp_func = bilinear_interpolation\n",
    "# ScaleFactorIdx = 0\n",
    "# ScaleFactorIdx = 1\n",
    "# ScaleFactorIdx = 2\n",
    "# ScaleFactorIdx = 3\n",
    "ScaleFactorIdx = 4\n",
    "# ScaleFactorIdx = 5"
   ]
  },
  {
   "cell_type": "code",
   "execution_count": null,
   "metadata": {},
   "outputs": [],
   "source": [
    "Mscale = mk_scale_matrix(Scales[ScaleFactorIdx], Scales[ScaleFactorIdx])\n",
    "M = Mscale\n",
    "M"
   ]
  },
  {
   "cell_type": "markdown",
   "metadata": {},
   "source": [
    "Compute the new image size"
   ]
  },
  {
   "cell_type": "code",
   "execution_count": null,
   "metadata": {},
   "outputs": [],
   "source": [
    "pixels = np.array([grid_h, grid_w]).T\n",
    "all_pixels = pixels.reshape(-1, pixels.shape[-1])\n",
    "\n",
    "proj_coordinates = np.zeros(all_pixels.shape, dtype=np.float)\n",
    "for i, p in enumerate(all_pixels):\n",
    "    proj_coordinates[i] = M.dot(vec(p[1], p[0], 1))[:2]\n",
    "    \n",
    "val_max = np.ceil(np.max(proj_coordinates, axis=0)).astype(np.int)\n",
    "val_min = np.floor(np.min(proj_coordinates, axis=0)).astype(np.int)\n",
    "\n",
    "dimensions_result = ((val_max - val_min).astype(np.int) + 1).tolist()\n",
    "dimensions_result.reverse()\n",
    "\n",
    "origin_offset = val_min.tolist()\n",
    "origin_offset.reverse()\n",
    "print (\"val_min: \", val_min)\n",
    "print (\"val_max: \", val_max)\n",
    "print (\"dimensions: \", dimensions_result)\n",
    "print (\"offset: \", origin_offset)"
   ]
  },
  {
   "cell_type": "markdown",
   "metadata": {},
   "source": [
    "Scale the image"
   ]
  },
  {
   "cell_type": "code",
   "execution_count": null,
   "metadata": {},
   "outputs": [],
   "source": [
    "src_image = ImOrig\n",
    "iwrapped_image = np.zeros(dimensions_result, dtype=np.float)"
   ]
  },
  {
   "cell_type": "code",
   "execution_count": null,
   "metadata": {},
   "outputs": [],
   "source": [
    "iwarp(src_image, iwrapped_image, M, interp_func, offset=origin_offset)"
   ]
  },
  {
   "cell_type": "code",
   "execution_count": null,
   "metadata": {},
   "outputs": [],
   "source": [
    "plt.figure(figsize=(6,6))\n",
    "plt.imshow(iwrapped_image, cmap=plt.cm.gray)\n",
    "plt.axis('off')"
   ]
  },
  {
   "cell_type": "code",
   "execution_count": null,
   "metadata": {},
   "outputs": [],
   "source": [
    "undo_scale_image = np.zeros(ImOrig.shape, dtype=ImOrig.dtype)\n",
    "iwarp(iwrapped_image, undo_scale_image, np.linalg.inv(M), interp_func, offset=origin_offset)"
   ]
  },
  {
   "cell_type": "code",
   "execution_count": null,
   "metadata": {},
   "outputs": [],
   "source": [
    "plt.figure(figsize=(6,6))\n",
    "plt.imshow(undo_scale_image, cmap=plt.cm.gray, interpolation='nearest')\n",
    "plt.axis('off')"
   ]
  },
  {
   "cell_type": "markdown",
   "metadata": {},
   "source": [
    "example using Bicubic or Lanczos"
   ]
  },
  {
   "cell_type": "code",
   "execution_count": null,
   "metadata": {},
   "outputs": [],
   "source": [
    "plt.figure(figsize=(6,6))\n",
    "plt.imshow(resizeBicubic(src_image, ScaleFactorIdx), cmap=plt.cm.gray, interpolation='nearest')\n",
    "plt.axis('off')"
   ]
  },
  {
   "cell_type": "markdown",
   "metadata": {},
   "source": [
    "## Task 3 - Defining and applying simple geometric transformations\n",
    "\n",
    "Compose the transformation matrix for the following transformations (Order: Scale, Rotate about Origin and Translate) using the composition procedure in Slide 33 of the lecture slides.\n",
    "\n",
    " 1. Scale non-uniformly in by a factor of 0.5 for x-direction and 2.0 for y-direction. \n",
    " 2. Rotate clockwise by 45 degrees about the origin.\n",
    " 3. Translate by 10 pixels in x-direction and −10 pixels in the y-direction\n",
    "\n",
    "Apply this transformation to ImOrig given in the AssignmentData.mat file, using Forward Warping with nearest-neighbor splatting. Lets call this image ImForward. (Psuedo-code in Slide 32)\n",
    "\n",
    "Apply this transformation to ImOrig using Inverse Warping with nearest-neighbor interpolation. Lets call this image ImInverse. (Psuedo-code in Slide 35)\n",
    "\n",
    "Comparing with in-built functions: Apply this transformation on image ImOrig and display transformed image (say ImTransformed). Get the inverse of this transform and apply on ImTransformed to reverse the transformation.\n",
    "\n",
    "Functions to use: meshgrid(if necessary) \n",
    "\n",
    "For comparison: look at functions provided from skimage.transform"
   ]
  },
  {
   "cell_type": "code",
   "execution_count": null,
   "metadata": {},
   "outputs": [],
   "source": [
    "Mscale = mk_scale_matrix(0.5, 2.)\n",
    "Mrotate = mk_rotate_matrix(np.deg2rad(45))\n",
    "Mtranslate = mk_translate_matrix(10, -10)\n",
    "M = Mtranslate.dot(Mscale.dot(Mrotate))\n",
    "M"
   ]
  },
  {
   "cell_type": "code",
   "execution_count": null,
   "metadata": {},
   "outputs": [],
   "source": [
    "pixels = np.array([grid_h, grid_w]).T\n",
    "all_pixels = pixels.reshape(-1, pixels.shape[-1])"
   ]
  },
  {
   "cell_type": "code",
   "execution_count": null,
   "metadata": {},
   "outputs": [],
   "source": [
    "proj_coordinates = np.zeros(all_pixels.shape, dtype=np.float)\n",
    "for i, p in enumerate(all_pixels):\n",
    "    proj_coordinates[i] = M.dot(vec(p[1], p[0], 1))[:2]"
   ]
  },
  {
   "cell_type": "code",
   "execution_count": null,
   "metadata": {},
   "outputs": [],
   "source": [
    "val_max = np.ceil(np.max(proj_coordinates, axis=0)).astype(np.int)\n",
    "val_min = np.floor(np.min(proj_coordinates, axis=0)).astype(np.int)\n",
    "\n",
    "dimensions_result = ((val_max - val_min).astype(np.int) + 1).tolist()\n",
    "dimensions_result.reverse()\n",
    "\n",
    "origin_offset = val_min.tolist()\n",
    "origin_offset.reverse()\n",
    "print (\"val_min: \", val_min)\n",
    "print (\"val_max: \", val_max)\n",
    "print (\"dimensions: \", dimensions_result)\n",
    "print (\"offset: \", origin_offset)"
   ]
  },
  {
   "cell_type": "code",
   "execution_count": null,
   "metadata": {},
   "outputs": [],
   "source": [
    "def nn_splatting(img, y, x, value):\n",
    "    sw, se, nw, ne = closest_coords_2x2(img, y, x)\n",
    "    # direct hit or out-of-bounds\n",
    "    if se is None:\n",
    "        if np.all(sw == vec(y,x)):\n",
    "            img[sw[0],sw[1]] = value\n",
    "        else:\n",
    "            img[sw[0],sw[1]] = 0.\n",
    "    \n",
    "    for c in [sw, se, nw, ne]:\n",
    "        if c is not None:\n",
    "            img[c[0],c[1]] = value"
   ]
  },
  {
   "cell_type": "code",
   "execution_count": null,
   "metadata": {},
   "outputs": [],
   "source": [
    "src_image = ImOrig\n",
    "ImForward = np.zeros(dimensions_result, dtype=ImOrig.dtype)"
   ]
  },
  {
   "cell_type": "code",
   "execution_count": null,
   "metadata": {},
   "outputs": [],
   "source": [
    "fwarp(src_image, ImForward, M, nn_splatting, offset=origin_offset)"
   ]
  },
  {
   "cell_type": "code",
   "execution_count": null,
   "metadata": {},
   "outputs": [],
   "source": [
    "plt.figure(figsize=(6,6))\n",
    "plt.imshow(ImForward, cmap=plt.cm.gray)\n",
    "plt.axis('off')"
   ]
  },
  {
   "cell_type": "code",
   "execution_count": null,
   "metadata": {},
   "outputs": [],
   "source": [
    "ImInverse = np.zeros(dimensions_result, dtype=ImOrig.dtype)"
   ]
  },
  {
   "cell_type": "code",
   "execution_count": null,
   "metadata": {},
   "outputs": [],
   "source": [
    "iwarp(src_image, ImInverse, M, bilinear_interpolation, offset=origin_offset)"
   ]
  },
  {
   "cell_type": "code",
   "execution_count": null,
   "metadata": {},
   "outputs": [],
   "source": [
    "plt.figure(figsize=(6,6))\n",
    "plt.imshow(ImInverse, cmap=plt.cm.gray)\n",
    "plt.axis('off')"
   ]
  },
  {
   "cell_type": "code",
   "execution_count": null,
   "metadata": {},
   "outputs": [],
   "source": [
    "plt.figure(figsize=(6,6))\n",
    "plt.imshow(np.abs(ImInverse-ImForward), cmap=plt.cm.gray)\n",
    "plt.axis('off')"
   ]
  },
  {
   "cell_type": "markdown",
   "metadata": {},
   "source": [
    "Try out skimage.transform methods"
   ]
  },
  {
   "cell_type": "code",
   "execution_count": null,
   "metadata": {},
   "outputs": [],
   "source": [
    "plt.figure(figsize=(6,6))\n",
    "plt.imshow(skitr.warp(ImOrig, M), cmap=plt.cm.gray)\n",
    "plt.axis('off')"
   ]
  },
  {
   "cell_type": "code",
   "execution_count": null,
   "metadata": {},
   "outputs": [],
   "source": []
  },
  {
   "cell_type": "code",
   "execution_count": null,
   "metadata": {},
   "outputs": [],
   "source": []
  }
 ],
 "metadata": {
  "kernelspec": {
   "display_name": "Python 3",
   "language": "python",
   "name": "python3"
  },
  "language_info": {
   "codemirror_mode": {
    "name": "ipython",
    "version": 3
   },
   "file_extension": ".py",
   "mimetype": "text/x-python",
   "name": "python",
   "nbconvert_exporter": "python",
   "pygments_lexer": "ipython3",
   "version": "3.8.5"
  }
 },
 "nbformat": 4,
 "nbformat_minor": 1
}
